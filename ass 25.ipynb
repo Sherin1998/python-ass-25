{
 "cells": [
  {
   "cell_type": "code",
   "execution_count": null,
   "metadata": {},
   "outputs": [],
   "source": [
    "#1\n",
    "[] is list comprehension.A List Comprehension executes immediately and returns a list.More memory is needed.\n",
    "() means generator.It follows lazy iteration iterating over 1 element at a time rather than whole.Returns an object and object need to be iterated to get result.Less memory is required"
   ]
  },
  {
   "cell_type": "code",
   "execution_count": null,
   "metadata": {},
   "outputs": [],
   "source": [
    "#2\n",
    "Iterators are just objects with a specific interface designed for iteration. All iterator objects have a next() method that returns a result object. The result object has two properties: value, which is the next value, and done, which is a boolean that's true when there are no more values to return. The iterator keeps an internal pointer to a location within a collection of values and with each call to the next() method, it returns the next appropriate value.\n",
    "    The iter() function in Python returns an iterator for the supplied object. The iter() generates a thing that can be iterated one element at a time.\n",
    "     A generator is somewhat of a function that returns an iterator object with a succession of values rather than a single item.\n",
    "\n",
    "A yield statement, rather than a return statement, is used in a generator function. \n",
    "\n",
    "The difference is that, although a return statement terminates a function completely, a yield statement pauses the function while storing all of its states and then continues from there on subsequent calls.\n",
    "    "
   ]
  },
  {
   "cell_type": "code",
   "execution_count": null,
   "metadata": {},
   "outputs": [],
   "source": [
    "#3\n",
    "yield keyword is used.A yield statement turns a regular function into a generator function.Generator objects put themselves on pause to yield an item. Then when you ask them for another item, it starts running their generator function again until they hit another yield statement."
   ]
  },
  {
   "cell_type": "code",
   "execution_count": null,
   "metadata": {},
   "outputs": [],
   "source": [
    "#4\n",
    " Yield keyword in Python is similar to a return statement used for returning values or objects in Python. However, there is a slight difference. The yield statement returns a generator object to the one who calls the function which contains yield, instead of simply returning a value.We need to interate over the object to get the value"
   ]
  },
  {
   "cell_type": "code",
   "execution_count": null,
   "metadata": {},
   "outputs": [],
   "source": [
    "#5\n",
    "List comprehension is more concise and easier to read as compared to map.\n",
    "List comprehension allows filtering. In map, we have no such facility.Map is faster if the function is predetermined.List comprehension is faster if complex expressions need to be avaluated.List comprehension are used when a list of results is required as map only returns a map object and does not return any list."
   ]
  }
 ],
 "metadata": {
  "kernelspec": {
   "display_name": "Python 3",
   "language": "python",
   "name": "python3"
  },
  "language_info": {
   "codemirror_mode": {
    "name": "ipython",
    "version": 3
   },
   "file_extension": ".py",
   "mimetype": "text/x-python",
   "name": "python",
   "nbconvert_exporter": "python",
   "pygments_lexer": "ipython3",
   "version": "3.8.3"
  }
 },
 "nbformat": 4,
 "nbformat_minor": 4
}
